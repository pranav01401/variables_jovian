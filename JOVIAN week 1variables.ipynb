{
 "cells": [
  {
   "cell_type": "code",
   "execution_count": null,
   "id": "f47ee199",
   "metadata": {},
   "outputs": [],
   "source": []
  },
  {
   "cell_type": "code",
   "execution_count": 1,
   "id": "6fea8736",
   "metadata": {},
   "outputs": [],
   "source": [
    "import random\n",
    "\n",
    "my_fav_num=1\n",
    "my_least_fav=0\n"
   ]
  },
  {
   "cell_type": "code",
   "execution_count": 2,
   "id": "a5bc447c",
   "metadata": {},
   "outputs": [
    {
     "name": "stdout",
     "output_type": "stream",
     "text": [
      "True\n"
     ]
    },
    {
     "data": {
      "text/plain": [
       "False"
      ]
     },
     "execution_count": 2,
     "metadata": {},
     "output_type": "execute_result"
    }
   ],
   "source": [
    "##equality check\n",
    "\n",
    "print(my_fav_num==1)\n",
    "my_fav_num==my_least_fav"
   ]
  },
  {
   "cell_type": "code",
   "execution_count": 3,
   "id": "5ff46973",
   "metadata": {},
   "outputs": [
    {
     "name": "stdout",
     "output_type": "stream",
     "text": [
      "True\n"
     ]
    },
    {
     "data": {
      "text/plain": [
       "False"
      ]
     },
     "execution_count": 3,
     "metadata": {},
     "output_type": "execute_result"
    }
   ],
   "source": [
    "##not equal to \n",
    "\n",
    "print(my_fav_num!=4)\n",
    "my_fav_num!=1"
   ]
  },
  {
   "cell_type": "code",
   "execution_count": 4,
   "id": "f24313cf",
   "metadata": {},
   "outputs": [
    {
     "name": "stdout",
     "output_type": "stream",
     "text": [
      "95\n"
     ]
    },
    {
     "data": {
      "text/plain": [
       "True"
      ]
     },
     "execution_count": 4,
     "metadata": {},
     "output_type": "execute_result"
    }
   ],
   "source": [
    "## AND and OR operation\n",
    "any_num=random.randint(1,100)\n",
    "print(any_num)\n",
    "not any_num==58"
   ]
  },
  {
   "cell_type": "code",
   "execution_count": 5,
   "id": "d7ced9b5",
   "metadata": {},
   "outputs": [
    {
     "data": {
      "text/html": [
       "<img src=\"https://www.infamousinspiration.com/wp-content/uploads/2017/06/Michael-Jordan-Poster-2.jpg\" width=\"300\" height=\"300\"/>"
      ],
      "text/plain": [
       "<IPython.core.display.Image object>"
      ]
     },
     "execution_count": 5,
     "metadata": {},
     "output_type": "execute_result"
    }
   ],
   "source": [
    "## import image module\n",
    "\n",
    "from IPython.display import Image\n",
    "\n",
    "# get the image\n",
    "Image(url=\"https://www.infamousinspiration.com/wp-content/uploads/2017/06/Michael-Jordan-Poster-2.jpg\", width=300, height=300)"
   ]
  },
  {
   "cell_type": "code",
   "execution_count": 6,
   "id": "dddbe84b",
   "metadata": {},
   "outputs": [],
   "source": [
    "## variables and datatypes\n",
    "\n",
    "color1,color2,color3='red','black','blue'"
   ]
  },
  {
   "cell_type": "code",
   "execution_count": 7,
   "id": "9f983449",
   "metadata": {},
   "outputs": [
    {
     "data": {
      "text/plain": [
       "'red'"
      ]
     },
     "execution_count": 7,
     "metadata": {},
     "output_type": "execute_result"
    }
   ],
   "source": [
    "color1"
   ]
  },
  {
   "cell_type": "code",
   "execution_count": 8,
   "id": "f61c6b6c",
   "metadata": {},
   "outputs": [
    {
     "data": {
      "text/plain": [
       "'black'"
      ]
     },
     "execution_count": 8,
     "metadata": {},
     "output_type": "execute_result"
    }
   ],
   "source": [
    "color2"
   ]
  },
  {
   "cell_type": "code",
   "execution_count": 9,
   "id": "480cb096",
   "metadata": {},
   "outputs": [
    {
     "data": {
      "text/plain": [
       "'blue'"
      ]
     },
     "execution_count": 9,
     "metadata": {},
     "output_type": "execute_result"
    }
   ],
   "source": [
    "color3"
   ]
  },
  {
   "cell_type": "code",
   "execution_count": 10,
   "id": "0b904b14",
   "metadata": {},
   "outputs": [],
   "source": [
    "##chaining multiple variables to single value\n",
    "\n",
    "color4=color5=color6='GREEN'"
   ]
  },
  {
   "cell_type": "code",
   "execution_count": 11,
   "id": "df274b2f",
   "metadata": {},
   "outputs": [
    {
     "data": {
      "text/plain": [
       "'GREEN'"
      ]
     },
     "execution_count": 11,
     "metadata": {},
     "output_type": "execute_result"
    }
   ],
   "source": [
    "color4"
   ]
  },
  {
   "cell_type": "code",
   "execution_count": 12,
   "id": "2bdd4d83",
   "metadata": {},
   "outputs": [
    {
     "data": {
      "text/plain": [
       "'GREEN'"
      ]
     },
     "execution_count": 12,
     "metadata": {},
     "output_type": "execute_result"
    }
   ],
   "source": [
    "color5"
   ]
  },
  {
   "cell_type": "code",
   "execution_count": 13,
   "id": "f58d81fc",
   "metadata": {},
   "outputs": [],
   "source": [
    "color2=color5"
   ]
  },
  {
   "cell_type": "code",
   "execution_count": 14,
   "id": "0f404052",
   "metadata": {},
   "outputs": [
    {
     "data": {
      "text/plain": [
       "'GREEN'"
      ]
     },
     "execution_count": 14,
     "metadata": {},
     "output_type": "execute_result"
    }
   ],
   "source": [
    "color5"
   ]
  },
  {
   "cell_type": "code",
   "execution_count": 15,
   "id": "38d1c511",
   "metadata": {},
   "outputs": [
    {
     "data": {
      "text/plain": [
       "'GREEN'"
      ]
     },
     "execution_count": 15,
     "metadata": {},
     "output_type": "execute_result"
    }
   ],
   "source": [
    "color2"
   ]
  },
  {
   "cell_type": "code",
   "execution_count": 16,
   "id": "99c2bf22",
   "metadata": {},
   "outputs": [],
   "source": [
    "##changing variables in a single line of code\n",
    "counter=10\n",
    "\n",
    "##same as counter=counter+10\n",
    "counter+=10"
   ]
  },
  {
   "cell_type": "code",
   "execution_count": 17,
   "id": "d3190301",
   "metadata": {},
   "outputs": [
    {
     "data": {
      "text/plain": [
       "20"
      ]
     },
     "execution_count": 17,
     "metadata": {},
     "output_type": "execute_result"
    }
   ],
   "source": [
    "counter"
   ]
  },
  {
   "cell_type": "code",
   "execution_count": 18,
   "id": "c546bfae",
   "metadata": {},
   "outputs": [],
   "source": [
    "three_musketeers=['Athos','Porthos','Aramis']"
   ]
  },
  {
   "cell_type": "code",
   "execution_count": 19,
   "id": "0508daf8",
   "metadata": {},
   "outputs": [
    {
     "data": {
      "text/plain": [
       "list"
      ]
     },
     "execution_count": 19,
     "metadata": {},
     "output_type": "execute_result"
    }
   ],
   "source": [
    "type(three_musketeers)"
   ]
  },
  {
   "cell_type": "code",
   "execution_count": 20,
   "id": "54d69c24",
   "metadata": {},
   "outputs": [
    {
     "name": "stdout",
     "output_type": "stream",
     "text": [
      "Athos\n",
      "Porthos\n",
      "Aramis\n"
     ]
    }
   ],
   "source": [
    "print(three_musketeers[0])\n",
    "print(three_musketeers[1])\n",
    "print(three_musketeers[2])"
   ]
  },
  {
   "cell_type": "code",
   "execution_count": 21,
   "id": "60749931",
   "metadata": {},
   "outputs": [
    {
     "data": {
      "text/plain": [
       "int"
      ]
     },
     "execution_count": 21,
     "metadata": {},
     "output_type": "execute_result"
    }
   ],
   "source": [
    "##BUILT IN DATA TYPES\n",
    "a_variable=23\n",
    "type(a_variable)"
   ]
  },
  {
   "cell_type": "code",
   "execution_count": 22,
   "id": "33c1a5ea",
   "metadata": {},
   "outputs": [],
   "source": [
    "is_today_saturday=False"
   ]
  },
  {
   "cell_type": "code",
   "execution_count": 23,
   "id": "f3fe8716",
   "metadata": {},
   "outputs": [
    {
     "data": {
      "text/plain": [
       "bool"
      ]
     },
     "execution_count": 23,
     "metadata": {},
     "output_type": "execute_result"
    }
   ],
   "source": [
    "type(is_today_saturday)"
   ]
  },
  {
   "cell_type": "code",
   "execution_count": 24,
   "id": "0c377d51",
   "metadata": {},
   "outputs": [],
   "source": [
    "##Data types :float\n",
    "\n",
    "scientific_notation=1e-5\n"
   ]
  },
  {
   "cell_type": "code",
   "execution_count": 25,
   "id": "d871ffb5",
   "metadata": {},
   "outputs": [
    {
     "data": {
      "text/plain": [
       "1e-05"
      ]
     },
     "execution_count": 25,
     "metadata": {},
     "output_type": "execute_result"
    }
   ],
   "source": [
    "scientific_notation"
   ]
  },
  {
   "cell_type": "code",
   "execution_count": 26,
   "id": "ae8a56e7",
   "metadata": {},
   "outputs": [],
   "source": [
    "sc_not=1e-3"
   ]
  },
  {
   "cell_type": "code",
   "execution_count": 27,
   "id": "8292a6e3",
   "metadata": {},
   "outputs": [
    {
     "data": {
      "text/plain": [
       "0.001"
      ]
     },
     "execution_count": 27,
     "metadata": {},
     "output_type": "execute_result"
    }
   ],
   "source": [
    "sc_not"
   ]
  },
  {
   "cell_type": "code",
   "execution_count": 28,
   "id": "861abb61",
   "metadata": {},
   "outputs": [],
   "source": [
    "##interconversion of float into integer and vice-versa\n",
    "current_year=2022"
   ]
  },
  {
   "cell_type": "code",
   "execution_count": 29,
   "id": "6945074b",
   "metadata": {},
   "outputs": [
    {
     "data": {
      "text/plain": [
       "2022.0"
      ]
     },
     "execution_count": 29,
     "metadata": {},
     "output_type": "execute_result"
    }
   ],
   "source": [
    "float(current_year)"
   ]
  },
  {
   "cell_type": "code",
   "execution_count": 30,
   "id": "17c7801b",
   "metadata": {},
   "outputs": [],
   "source": [
    "avogadro=6.022e23"
   ]
  },
  {
   "cell_type": "code",
   "execution_count": 31,
   "id": "528d71fd",
   "metadata": {},
   "outputs": [
    {
     "data": {
      "text/plain": [
       "602200000000000027262976"
      ]
     },
     "execution_count": 31,
     "metadata": {},
     "output_type": "execute_result"
    }
   ],
   "source": [
    "int(avogadro)"
   ]
  },
  {
   "cell_type": "code",
   "execution_count": 32,
   "id": "dd27f583",
   "metadata": {},
   "outputs": [
    {
     "data": {
      "text/plain": [
       "3.141592653589793"
      ]
     },
     "execution_count": 32,
     "metadata": {},
     "output_type": "execute_result"
    }
   ],
   "source": [
    "import numpy as np\n",
    "np.pi"
   ]
  },
  {
   "cell_type": "code",
   "execution_count": 33,
   "id": "95ba67ac",
   "metadata": {},
   "outputs": [
    {
     "data": {
      "text/plain": [
       "3"
      ]
     },
     "execution_count": 33,
     "metadata": {},
     "output_type": "execute_result"
    }
   ],
   "source": [
    "int(np.pi)"
   ]
  },
  {
   "cell_type": "markdown",
   "id": "fc943037",
   "metadata": {},
   "source": [
    "## Arithmetic operation\n",
    "\n",
    "While performing arithmetic operation if all of the number is integer then answer   \n",
    "is also an integer. otherwise answer will be in float.   \n",
    "\n",
    "  \n",
    "Exception is division generally division takes float data type."
   ]
  },
  {
   "cell_type": "code",
   "execution_count": 34,
   "id": "442f403c",
   "metadata": {},
   "outputs": [
    {
     "data": {
      "text/plain": [
       "int"
      ]
     },
     "execution_count": 34,
     "metadata": {},
     "output_type": "execute_result"
    }
   ],
   "source": [
    "type(45*3)"
   ]
  },
  {
   "cell_type": "code",
   "execution_count": 35,
   "id": "1be93c61",
   "metadata": {},
   "outputs": [
    {
     "data": {
      "text/plain": [
       "float"
      ]
     },
     "execution_count": 35,
     "metadata": {},
     "output_type": "execute_result"
    }
   ],
   "source": [
    "type(45*3.)"
   ]
  },
  {
   "cell_type": "code",
   "execution_count": 36,
   "id": "8b36195c",
   "metadata": {},
   "outputs": [
    {
     "name": "stdout",
     "output_type": "stream",
     "text": [
      "False\n",
      "True\n"
     ]
    },
    {
     "data": {
      "text/plain": [
       "False"
      ]
     },
     "execution_count": 36,
     "metadata": {},
     "output_type": "execute_result"
    }
   ],
   "source": [
    "##boolean : generally comes in comparison operations\n",
    "\n",
    "print(2==3)\n",
    "\n",
    "print(2==2.)\n",
    "2>3"
   ]
  },
  {
   "cell_type": "code",
   "execution_count": 37,
   "id": "f9f651d4",
   "metadata": {},
   "outputs": [],
   "source": [
    "cost_of_ice_bag=10\n",
    "\n",
    "def is_expensive(num):\n",
    "       if num>=100:\n",
    "        return 'costly'\n",
    "    \n"
   ]
  },
  {
   "cell_type": "code",
   "execution_count": null,
   "id": "ff7dce8f",
   "metadata": {},
   "outputs": [],
   "source": []
  },
  {
   "cell_type": "code",
   "execution_count": 38,
   "id": "3ad7cfc0",
   "metadata": {},
   "outputs": [
    {
     "data": {
      "text/plain": [
       "10"
      ]
     },
     "execution_count": 38,
     "metadata": {},
     "output_type": "execute_result"
    }
   ],
   "source": [
    "cost_of_ice_bag"
   ]
  },
  {
   "cell_type": "code",
   "execution_count": 39,
   "id": "157920fb",
   "metadata": {},
   "outputs": [
    {
     "data": {
      "text/plain": [
       "array([  0,  10,  20,  30,  40,  50,  60,  70,  80,  90, 100, 110, 120,\n",
       "       130, 140, 150, 160, 170, 180, 190, 200, 210, 220, 230, 240, 250,\n",
       "       260, 270, 280, 290, 300, 310, 320, 330, 340, 350, 360, 370, 380,\n",
       "       390, 400, 410, 420, 430, 440, 450, 460, 470, 480, 490, 500, 510,\n",
       "       520, 530, 540, 550, 560, 570, 580, 590, 600, 610, 620, 630, 640,\n",
       "       650, 660, 670, 680, 690, 700, 710, 720, 730, 740, 750, 760, 770,\n",
       "       780, 790, 800, 810, 820, 830, 840, 850, 860, 870, 880, 890, 900,\n",
       "       910, 920, 930, 940, 950, 960, 970, 980, 990])"
      ]
     },
     "execution_count": 39,
     "metadata": {},
     "output_type": "execute_result"
    }
   ],
   "source": [
    "import numpy as np\n",
    "cost_of_ice_bag=np.arange(0,1000,step=10)\n",
    "cost_of_ice_bag"
   ]
  },
  {
   "cell_type": "code",
   "execution_count": 40,
   "id": "fa3c13da",
   "metadata": {},
   "outputs": [
    {
     "data": {
      "text/plain": [
       "[100,\n",
       " 110,\n",
       " 120,\n",
       " 130,\n",
       " 140,\n",
       " 150,\n",
       " 160,\n",
       " 170,\n",
       " 180,\n",
       " 190,\n",
       " 200,\n",
       " 210,\n",
       " 220,\n",
       " 230,\n",
       " 240,\n",
       " 250,\n",
       " 260,\n",
       " 270,\n",
       " 280,\n",
       " 290,\n",
       " 300,\n",
       " 310,\n",
       " 320,\n",
       " 330,\n",
       " 340,\n",
       " 350,\n",
       " 360,\n",
       " 370,\n",
       " 380,\n",
       " 390,\n",
       " 400,\n",
       " 410,\n",
       " 420,\n",
       " 430,\n",
       " 440,\n",
       " 450,\n",
       " 460,\n",
       " 470,\n",
       " 480,\n",
       " 490,\n",
       " 500,\n",
       " 510,\n",
       " 520,\n",
       " 530,\n",
       " 540,\n",
       " 550,\n",
       " 560,\n",
       " 570,\n",
       " 580,\n",
       " 590,\n",
       " 600,\n",
       " 610,\n",
       " 620,\n",
       " 630,\n",
       " 640,\n",
       " 650,\n",
       " 660,\n",
       " 670,\n",
       " 680,\n",
       " 690,\n",
       " 700,\n",
       " 710,\n",
       " 720,\n",
       " 730,\n",
       " 740,\n",
       " 750,\n",
       " 760,\n",
       " 770,\n",
       " 780,\n",
       " 790,\n",
       " 800,\n",
       " 810,\n",
       " 820,\n",
       " 830,\n",
       " 840,\n",
       " 850,\n",
       " 860,\n",
       " 870,\n",
       " 880,\n",
       " 890,\n",
       " 900,\n",
       " 910,\n",
       " 920,\n",
       " 930,\n",
       " 940,\n",
       " 950,\n",
       " 960,\n",
       " 970,\n",
       " 980,\n",
       " 990]"
      ]
     },
     "execution_count": 40,
     "metadata": {},
     "output_type": "execute_result"
    }
   ],
   "source": [
    "##checks whether any of values is >=100 for checking individual values map and filter is used.\n",
    "\n",
    "list(filter(is_expensive,cost_of_ice_bag))"
   ]
  },
  {
   "cell_type": "code",
   "execution_count": 41,
   "id": "f5101af5",
   "metadata": {},
   "outputs": [
    {
     "data": {
      "text/plain": [
       "<map at 0x2df89d610d0>"
      ]
     },
     "execution_count": 41,
     "metadata": {},
     "output_type": "execute_result"
    }
   ],
   "source": [
    "map(is_expensive,cost_of_ice_bag)"
   ]
  },
  {
   "cell_type": "code",
   "execution_count": 42,
   "id": "278e3cbd",
   "metadata": {},
   "outputs": [
    {
     "data": {
      "text/plain": [
       "False"
      ]
     },
     "execution_count": 42,
     "metadata": {},
     "output_type": "execute_result"
    }
   ],
   "source": [
    "#checks whether all values are >=100\n",
    "cost_of_ice_bag.all()"
   ]
  },
  {
   "cell_type": "code",
   "execution_count": 43,
   "id": "08b0a8f5",
   "metadata": {},
   "outputs": [
    {
     "data": {
      "text/plain": [
       "'i=0\\n\\nfor i in len(cost_of_ice_bag):\\n    is_expensive(cost_of_ice_bag[i])\\n    i=i+1'"
      ]
     },
     "execution_count": 43,
     "metadata": {},
     "output_type": "execute_result"
    }
   ],
   "source": [
    "'''i=0\n",
    "\n",
    "for i in len(cost_of_ice_bag):\n",
    "    is_expensive(cost_of_ice_bag[i])\n",
    "    i=i+1'''"
   ]
  },
  {
   "cell_type": "code",
   "execution_count": 44,
   "id": "cfdc2040",
   "metadata": {},
   "outputs": [
    {
     "name": "stdout",
     "output_type": "stream",
     "text": [
      "2022.0\n",
      "3\n"
     ]
    }
   ],
   "source": [
    "##convert data type\n",
    "current_year=2022\n",
    "print(float(current_year))\n",
    "print(int(np.pi))"
   ]
  },
  {
   "cell_type": "markdown",
   "id": "35f78364",
   "metadata": {},
   "source": [
    "### BOOLEAN"
   ]
  },
  {
   "cell_type": "code",
   "execution_count": 45,
   "id": "4ce90d4a",
   "metadata": {},
   "outputs": [],
   "source": [
    "## any bool variable can be assigned using a condition.\n",
    "## For example the following condition is true thus is_today_sunday is assigned a value true\n",
    "is_today_sunday=3<4"
   ]
  },
  {
   "cell_type": "code",
   "execution_count": 46,
   "id": "1e9c4326",
   "metadata": {},
   "outputs": [
    {
     "data": {
      "text/plain": [
       "True"
      ]
     },
     "execution_count": 46,
     "metadata": {},
     "output_type": "execute_result"
    }
   ],
   "source": [
    "is_today_sunday"
   ]
  },
  {
   "cell_type": "code",
   "execution_count": 47,
   "id": "134a96b9",
   "metadata": {},
   "outputs": [
    {
     "data": {
      "text/plain": [
       "5"
      ]
     },
     "execution_count": 47,
     "metadata": {},
     "output_type": "execute_result"
    }
   ],
   "source": [
    "##boolean is converted into integers when used in arithmetic operation.\n",
    "5+False"
   ]
  },
  {
   "cell_type": "code",
   "execution_count": 48,
   "id": "bd123228",
   "metadata": {},
   "outputs": [
    {
     "data": {
      "text/plain": [
       "4.0"
      ]
     },
     "execution_count": 48,
     "metadata": {},
     "output_type": "execute_result"
    }
   ],
   "source": [
    "3.+True"
   ]
  },
  {
   "cell_type": "code",
   "execution_count": 49,
   "id": "cff54b4b",
   "metadata": {},
   "outputs": [
    {
     "data": {
      "text/plain": [
       "4.0"
      ]
     },
     "execution_count": 49,
     "metadata": {},
     "output_type": "execute_result"
    }
   ],
   "source": [
    "3.+is_today_sunday"
   ]
  },
  {
   "cell_type": "markdown",
   "id": "de34c3ae",
   "metadata": {},
   "source": [
    "\n",
    "\n",
    "Any value in Python can be converted to a Boolean using the `bool` function. \n",
    "\n",
    "Only the following values evaluate to `False` (they are often called *falsy* values):\n",
    "\n",
    "1. The value `False` itself\n",
    "2. The integer `0`\n",
    "3. The float `0.0`\n",
    "4. The empty value `None`\n",
    "5. The empty text `\"\"`\n",
    "6. The empty list `[]`\n",
    "7. The empty tuple `()`\n",
    "8. The empty dictionary `{}`\n",
    "9. The empty set `set()`\n",
    "10. The empty range `range(0)`\n",
    "\n",
    "Everything else evaluates to `True` (a value that evaluates to `True` is often called a *truthy* value)."
   ]
  },
  {
   "cell_type": "code",
   "execution_count": 50,
   "id": "dc760cd4",
   "metadata": {},
   "outputs": [
    {
     "data": {
      "text/plain": [
       "False"
      ]
     },
     "execution_count": 50,
     "metadata": {},
     "output_type": "execute_result"
    }
   ],
   "source": [
    "bool(0)"
   ]
  },
  {
   "cell_type": "code",
   "execution_count": 51,
   "id": "17297f14",
   "metadata": {},
   "outputs": [
    {
     "data": {
      "text/plain": [
       "True"
      ]
     },
     "execution_count": 51,
     "metadata": {},
     "output_type": "execute_result"
    }
   ],
   "source": [
    "bool(\" \")"
   ]
  },
  {
   "cell_type": "code",
   "execution_count": 52,
   "id": "fae1cdcc",
   "metadata": {},
   "outputs": [
    {
     "data": {
      "text/plain": [
       "False"
      ]
     },
     "execution_count": 52,
     "metadata": {},
     "output_type": "execute_result"
    }
   ],
   "source": [
    "bool(\"\")"
   ]
  },
  {
   "cell_type": "code",
   "execution_count": 53,
   "id": "a1ac8a16",
   "metadata": {},
   "outputs": [
    {
     "data": {
      "text/plain": [
       "False"
      ]
     },
     "execution_count": 53,
     "metadata": {},
     "output_type": "execute_result"
    }
   ],
   "source": [
    "bool([])"
   ]
  },
  {
   "cell_type": "code",
   "execution_count": 54,
   "id": "5355c630",
   "metadata": {},
   "outputs": [
    {
     "data": {
      "text/plain": [
       "False"
      ]
     },
     "execution_count": 54,
     "metadata": {},
     "output_type": "execute_result"
    }
   ],
   "source": [
    "bool(())"
   ]
  },
  {
   "cell_type": "code",
   "execution_count": 55,
   "id": "57fba7b9",
   "metadata": {},
   "outputs": [
    {
     "data": {
      "text/plain": [
       "(True, True, True, True)"
      ]
     },
     "execution_count": 55,
     "metadata": {},
     "output_type": "execute_result"
    }
   ],
   "source": [
    "bool(True),bool(1),bool((1,2,3,4)),bool(['a','b','c','d'])"
   ]
  },
  {
   "cell_type": "markdown",
   "id": "f107a117",
   "metadata": {},
   "source": [
    "### None\n",
    "\n",
    "The None type includes a single value `None`, used to indicate the absence of a value. `None` has the type `NoneType`. It is often used to declare a variable whose value may be assigned later."
   ]
  },
  {
   "cell_type": "code",
   "execution_count": 56,
   "id": "20ad4ae1",
   "metadata": {},
   "outputs": [
    {
     "data": {
      "text/plain": [
       "NoneType"
      ]
     },
     "execution_count": 56,
     "metadata": {},
     "output_type": "execute_result"
    }
   ],
   "source": [
    "nothing=None\n",
    "type(nothing)"
   ]
  },
  {
   "cell_type": "markdown",
   "id": "2ec95f4a",
   "metadata": {},
   "source": [
    "### String\n",
    "\n",
    "A string is used to represent text (*a string of characters*) in Python. Strings must be surrounded using quotations (either the single quote `'` or the double quote `\"`). Strings have the type `str`."
   ]
  },
  {
   "cell_type": "code",
   "execution_count": 57,
   "id": "f7c59c23",
   "metadata": {},
   "outputs": [
    {
     "data": {
      "text/plain": [
       "str"
      ]
     },
     "execution_count": 57,
     "metadata": {},
     "output_type": "execute_result"
    }
   ],
   "source": [
    "today='Saturday'\n",
    "type(today)"
   ]
  },
  {
   "cell_type": "code",
   "execution_count": 58,
   "id": "6f17e97c",
   "metadata": {},
   "outputs": [],
   "source": [
    "## use double quotes when having single quotes in string\n",
    "my_favorite_movie = 'One Flew over the Cuckoo\\'s Nest'\n"
   ]
  },
  {
   "cell_type": "code",
   "execution_count": 59,
   "id": "f0682052",
   "metadata": {},
   "outputs": [
    {
     "data": {
      "text/plain": [
       "str"
      ]
     },
     "execution_count": 59,
     "metadata": {},
     "output_type": "execute_result"
    }
   ],
   "source": [
    "type(my_favorite_movie  )"
   ]
  },
  {
   "cell_type": "code",
   "execution_count": 60,
   "id": "370ceb03",
   "metadata": {},
   "outputs": [
    {
     "data": {
      "text/plain": [
       "'123Į'"
      ]
     },
     "execution_count": 60,
     "metadata": {},
     "output_type": "execute_result"
    }
   ],
   "source": [
    "teststr='123\\456'\n",
    "teststr"
   ]
  },
  {
   "cell_type": "code",
   "execution_count": 61,
   "id": "fa40f18d",
   "metadata": {},
   "outputs": [
    {
     "data": {
      "text/plain": [
       "\"rama's\""
      ]
     },
     "execution_count": 61,
     "metadata": {},
     "output_type": "execute_result"
    }
   ],
   "source": [
    "teststr='rama\\'s'\n",
    "teststr"
   ]
  },
  {
   "cell_type": "markdown",
   "id": "eb5afd36",
   "metadata": {},
   "source": [
    "To use a double quote within a string written with double quotes, *escape* the inner quotes by prefixing them with the `\\` character."
   ]
  },
  {
   "cell_type": "code",
   "execution_count": 62,
   "id": "e35e6e90",
   "metadata": {},
   "outputs": [],
   "source": [
    "another_pun = \"The first time I got a universal remote control, I thought to myself \\\"This changes everything\\\".\""
   ]
  },
  {
   "cell_type": "code",
   "execution_count": 63,
   "id": "6dd551eb",
   "metadata": {},
   "outputs": [
    {
     "data": {
      "text/plain": [
       "'The first time I got a universal remote control, I thought to myself \"This changes everything\".'"
      ]
     },
     "execution_count": 63,
     "metadata": {},
     "output_type": "execute_result"
    }
   ],
   "source": [
    "another_pun"
   ]
  },
  {
   "cell_type": "code",
   "execution_count": 64,
   "id": "48782d01",
   "metadata": {},
   "outputs": [],
   "source": [
    "today='today'\n"
   ]
  },
  {
   "cell_type": "code",
   "execution_count": 65,
   "id": "ab261e59",
   "metadata": {},
   "outputs": [
    {
     "data": {
      "text/plain": [
       "'t'"
      ]
     },
     "execution_count": 65,
     "metadata": {},
     "output_type": "execute_result"
    }
   ],
   "source": [
    "##indexing in string \n",
    "today[0]"
   ]
  },
  {
   "cell_type": "code",
   "execution_count": 66,
   "id": "466fe952",
   "metadata": {},
   "outputs": [
    {
     "data": {
      "text/plain": [
       "'day'"
      ]
     },
     "execution_count": 66,
     "metadata": {},
     "output_type": "execute_result"
    }
   ],
   "source": [
    "today[2:len(today)]"
   ]
  },
  {
   "cell_type": "code",
   "execution_count": 67,
   "id": "09a4e969",
   "metadata": {},
   "outputs": [
    {
     "data": {
      "text/plain": [
       "True"
      ]
     },
     "execution_count": 67,
     "metadata": {},
     "output_type": "execute_result"
    }
   ],
   "source": [
    "##check a part of the string\n",
    "\n",
    "'day' in today"
   ]
  },
  {
   "cell_type": "code",
   "execution_count": 68,
   "id": "80bd2b11",
   "metadata": {},
   "outputs": [
    {
     "data": {
      "text/plain": [
       "False"
      ]
     },
     "execution_count": 68,
     "metadata": {},
     "output_type": "execute_result"
    }
   ],
   "source": [
    "'tom' in today"
   ]
  },
  {
   "cell_type": "code",
   "execution_count": 69,
   "id": "99c6b51c",
   "metadata": {},
   "outputs": [
    {
     "data": {
      "text/plain": [
       "True"
      ]
     },
     "execution_count": 69,
     "metadata": {},
     "output_type": "execute_result"
    }
   ],
   "source": [
    "'to' in today"
   ]
  },
  {
   "cell_type": "code",
   "execution_count": 70,
   "id": "7a70f536",
   "metadata": {},
   "outputs": [
    {
     "data": {
      "text/plain": [
       "['a', '\\n', 'b']"
      ]
     },
     "execution_count": 70,
     "metadata": {},
     "output_type": "execute_result"
    }
   ],
   "source": [
    "##multiline strings\n",
    "str1='''a\n",
    "b'''\n",
    "list(str1)\n"
   ]
  },
  {
   "cell_type": "code",
   "execution_count": 71,
   "id": "23e7c77c",
   "metadata": {},
   "outputs": [
    {
     "data": {
      "text/plain": [
       "3"
      ]
     },
     "execution_count": 71,
     "metadata": {},
     "output_type": "execute_result"
    }
   ],
   "source": [
    "len(str1)"
   ]
  },
  {
   "cell_type": "markdown",
   "id": "6c87df96",
   "metadata": {},
   "source": [
    "#### concatenate string using '+' function"
   ]
  },
  {
   "cell_type": "code",
   "execution_count": 72,
   "id": "3bb222cb",
   "metadata": {},
   "outputs": [],
   "source": [
    "string1='hello'\n",
    "string2='world'\n",
    "\n",
    "string=string1+' '+string2"
   ]
  },
  {
   "cell_type": "code",
   "execution_count": 73,
   "id": "1d0b984f",
   "metadata": {},
   "outputs": [
    {
     "data": {
      "text/plain": [
       "'hello world'"
      ]
     },
     "execution_count": 73,
     "metadata": {},
     "output_type": "execute_result"
    }
   ],
   "source": [
    "string"
   ]
  },
  {
   "cell_type": "code",
   "execution_count": 74,
   "id": "e21d1d9b",
   "metadata": {},
   "outputs": [
    {
     "data": {
      "text/plain": [
       "'HELLO WORLD'"
      ]
     },
     "execution_count": 74,
     "metadata": {},
     "output_type": "execute_result"
    }
   ],
   "source": [
    "##using the lower and upper function does not change the original string.\n",
    "string.upper()"
   ]
  },
  {
   "cell_type": "code",
   "execution_count": 75,
   "id": "388c529f",
   "metadata": {},
   "outputs": [
    {
     "data": {
      "text/plain": [
       "'hello world'"
      ]
     },
     "execution_count": 75,
     "metadata": {},
     "output_type": "execute_result"
    }
   ],
   "source": [
    "string1.lower()+' '+string2.lower()"
   ]
  },
  {
   "cell_type": "code",
   "execution_count": 76,
   "id": "55e111ef",
   "metadata": {},
   "outputs": [
    {
     "data": {
      "text/plain": [
       "'hello world'"
      ]
     },
     "execution_count": 76,
     "metadata": {},
     "output_type": "execute_result"
    }
   ],
   "source": [
    "string"
   ]
  },
  {
   "cell_type": "code",
   "execution_count": 77,
   "id": "0e9a33ff",
   "metadata": {},
   "outputs": [
    {
     "data": {
      "text/plain": [
       "'Pranav prabhakar'"
      ]
     },
     "execution_count": 77,
     "metadata": {},
     "output_type": "execute_result"
    }
   ],
   "source": [
    "'pranav prabhakar'.capitalize()"
   ]
  },
  {
   "cell_type": "markdown",
   "id": "4e019433",
   "metadata": {},
   "source": [
    "#### replace a part of the string still *original string is same*\n",
    "The `.replace` method replaces a part of the string with another string. It takes the portion to be replaced and the replacement text as *inputs* or *arguments*.\n",
    "\n"
   ]
  },
  {
   "cell_type": "code",
   "execution_count": 78,
   "id": "af39af0b",
   "metadata": {},
   "outputs": [
    {
     "name": "stdout",
     "output_type": "stream",
     "text": [
      "hello world\n"
     ]
    },
    {
     "data": {
      "text/plain": [
       "'duck world'"
      ]
     },
     "execution_count": 78,
     "metadata": {},
     "output_type": "execute_result"
    }
   ],
   "source": [
    "print(string)\n",
    "string.replace('hello','duck')"
   ]
  },
  {
   "cell_type": "markdown",
   "id": "ad03272b",
   "metadata": {},
   "source": [
    "The `.split` method splits a string into a list of strings at every occurrence of provided character(s)."
   ]
  },
  {
   "cell_type": "code",
   "execution_count": 79,
   "id": "c6f555f1",
   "metadata": {},
   "outputs": [
    {
     "data": {
      "text/plain": [
       "['pranav', 'rahul', 'arpit', 'gurpreet', 'pankaj', 'pkp']"
      ]
     },
     "execution_count": 79,
     "metadata": {},
     "output_type": "execute_result"
    }
   ],
   "source": [
    "'pranav,rahul,arpit,gurpreet,pankaj,pkp'.split(',')"
   ]
  },
  {
   "cell_type": "markdown",
   "id": "2805cc17",
   "metadata": {},
   "source": [
    "#### strip is used to remove spaces in front and back of the string.\n",
    "The `.strip` method removes whitespace characters from the beginning and end of a string."
   ]
  },
  {
   "cell_type": "code",
   "execution_count": 80,
   "id": "8da98c8c",
   "metadata": {},
   "outputs": [],
   "source": [
    "space_string='                   professor          is a         mad           man'"
   ]
  },
  {
   "cell_type": "code",
   "execution_count": 81,
   "id": "da30fd63",
   "metadata": {},
   "outputs": [],
   "source": [
    "normal_string=space_string.strip()"
   ]
  },
  {
   "cell_type": "code",
   "execution_count": 82,
   "id": "d2947f21",
   "metadata": {},
   "outputs": [
    {
     "data": {
      "text/plain": [
       "'professor          is a         mad           man'"
      ]
     },
     "execution_count": 82,
     "metadata": {},
     "output_type": "execute_result"
    }
   ],
   "source": [
    "normal_string"
   ]
  },
  {
   "cell_type": "code",
   "execution_count": 83,
   "id": "9735a4a5",
   "metadata": {},
   "outputs": [
    {
     "data": {
      "text/plain": [
       "['professor', 'is', 'a', 'mad', 'man']"
      ]
     },
     "execution_count": 83,
     "metadata": {},
     "output_type": "execute_result"
    }
   ],
   "source": [
    "normal_string.split()"
   ]
  },
  {
   "cell_type": "markdown",
   "id": "1121f8a0",
   "metadata": {},
   "source": [
    "### FORMATTING WITH STRINGS"
   ]
  },
  {
   "cell_type": "code",
   "execution_count": 88,
   "id": "bd627c90",
   "metadata": {},
   "outputs": [],
   "source": [
    "cost_of_ice=1.20\n",
    "profit_margin=0.5\n",
    "number_of_bags=200\n",
    "output_format='''If the grocery store sells a bag at ${} and profit margin {}% then profit it makes is \n",
    "                    ${} by selling {} number of bags'''\n",
    "def cost(cost_of_ice,profit_margin,number_of_bags):\n",
    "    profit=cost_of_ice*profit_margin*number_of_bags\n",
    "    return output_format.format(cost_of_ice,profit_margin,profit,number_of_bags)\n"
   ]
  },
  {
   "cell_type": "code",
   "execution_count": 89,
   "id": "0af7f303",
   "metadata": {},
   "outputs": [
    {
     "data": {
      "text/plain": [
       "'If the grocery store sells a bag at $1.2 and profit margin 0.5% then profit it makes is \\n                    $120.0 by selling 200 number of bags'"
      ]
     },
     "execution_count": 89,
     "metadata": {},
     "output_type": "execute_result"
    }
   ],
   "source": [
    "profit=cost_of_ice*profit_margin*number_of_bags\n",
    "output_format.format(cost_of_ice,profit_margin,profit,number_of_bags)"
   ]
  },
  {
   "cell_type": "code",
   "execution_count": 90,
   "id": "6ff2631e",
   "metadata": {},
   "outputs": [
    {
     "data": {
      "text/plain": [
       "'If the grocery store sells a bag at $2.5 and profit margin 0.5% then profit it makes is \\n                    $625.0 by selling 500 number of bags'"
      ]
     },
     "execution_count": 90,
     "metadata": {},
     "output_type": "execute_result"
    }
   ],
   "source": [
    "cost_of_ice=2.50\n",
    "profit_margin=0.2\n",
    "number_of_bags=500\n",
    "\n",
    "cost(2.50,0.5,500)"
   ]
  },
  {
   "cell_type": "markdown",
   "id": "0ce20465",
   "metadata": {},
   "source": [
    "Notice how the placeholders `{}` in the `output_template` string are replaced with the arguments provided to the `.format` method.\n",
    "\n",
    "It is also possible to use the string concatenation operator `+` to combine strings with other values. However, those values must first be converted to strings using the `str` function."
   ]
  },
  {
   "cell_type": "markdown",
   "id": "262f8280",
   "metadata": {},
   "source": [
    "### comparison with strings."
   ]
  },
  {
   "cell_type": "code",
   "execution_count": 91,
   "id": "b1253a20",
   "metadata": {},
   "outputs": [
    {
     "data": {
      "text/plain": [
       "False"
      ]
     },
     "execution_count": 91,
     "metadata": {},
     "output_type": "execute_result"
    }
   ],
   "source": [
    "first_name='pranav'\n",
    "first_name=='prabhakar'"
   ]
  },
  {
   "cell_type": "code",
   "execution_count": 92,
   "id": "245b7b6d",
   "metadata": {},
   "outputs": [
    {
     "data": {
      "text/plain": [
       "True"
      ]
     },
     "execution_count": 92,
     "metadata": {},
     "output_type": "execute_result"
    }
   ],
   "source": [
    "first_name!='prabhakar'"
   ]
  },
  {
   "cell_type": "markdown",
   "id": "111f367b",
   "metadata": {},
   "source": [
    "## list"
   ]
  },
  {
   "cell_type": "code",
   "execution_count": 93,
   "id": "aabb1d11",
   "metadata": {},
   "outputs": [],
   "source": [
    "fruits=['apple','banana','cherry']"
   ]
  },
  {
   "cell_type": "code",
   "execution_count": 94,
   "id": "e168b55e",
   "metadata": {},
   "outputs": [
    {
     "data": {
      "text/plain": [
       "'cherry'"
      ]
     },
     "execution_count": 94,
     "metadata": {},
     "output_type": "execute_result"
    }
   ],
   "source": [
    "### negative indexing in lists \n",
    "fruits[-1] ##the last element"
   ]
  },
  {
   "cell_type": "code",
   "execution_count": 95,
   "id": "5128c763",
   "metadata": {},
   "outputs": [
    {
     "data": {
      "text/plain": [
       "'banana'"
      ]
     },
     "execution_count": 95,
     "metadata": {},
     "output_type": "execute_result"
    }
   ],
   "source": [
    "fruits[-2]"
   ]
  },
  {
   "cell_type": "markdown",
   "id": "79b7ab6f",
   "metadata": {},
   "source": [
    "If you try to access an index equal to or higher than the length of the list, Python returns an `IndexError`."
   ]
  },
  {
   "cell_type": "code",
   "execution_count": 96,
   "id": "eaa9cd59",
   "metadata": {},
   "outputs": [],
   "source": [
    "empty_list=list()"
   ]
  },
  {
   "cell_type": "code",
   "execution_count": 97,
   "id": "1b5c6873",
   "metadata": {},
   "outputs": [
    {
     "data": {
      "text/plain": [
       "[]"
      ]
     },
     "execution_count": 97,
     "metadata": {},
     "output_type": "execute_result"
    }
   ],
   "source": [
    "empty_list"
   ]
  },
  {
   "cell_type": "code",
   "execution_count": 98,
   "id": "f158bae1",
   "metadata": {},
   "outputs": [],
   "source": [
    "a_list=[23,'pranav',None,fruits,23.556]"
   ]
  },
  {
   "cell_type": "code",
   "execution_count": 99,
   "id": "c39ea695",
   "metadata": {},
   "outputs": [
    {
     "data": {
      "text/plain": [
       "5"
      ]
     },
     "execution_count": 99,
     "metadata": {},
     "output_type": "execute_result"
    }
   ],
   "source": [
    "len(a_list)"
   ]
  },
  {
   "cell_type": "code",
   "execution_count": 100,
   "id": "b69d3a89",
   "metadata": {},
   "outputs": [
    {
     "data": {
      "text/plain": [
       "[None, ['apple', 'banana', 'cherry'], 23.556]"
      ]
     },
     "execution_count": 100,
     "metadata": {},
     "output_type": "execute_result"
    }
   ],
   "source": [
    "##index 2,3,4\n",
    "a_list[2:5]"
   ]
  },
  {
   "cell_type": "code",
   "execution_count": 101,
   "id": "9af3528f",
   "metadata": {},
   "outputs": [
    {
     "data": {
      "text/plain": [
       "[None, ['apple', 'banana', 'cherry'], 23.556]"
      ]
     },
     "execution_count": 101,
     "metadata": {},
     "output_type": "execute_result"
    }
   ],
   "source": [
    "a_list[2:10]"
   ]
  },
  {
   "cell_type": "code",
   "execution_count": 102,
   "id": "e93591d2",
   "metadata": {},
   "outputs": [
    {
     "data": {
      "text/plain": [
       "[23, 'pranav', None, ['apple', 'banana', 'cherry']]"
      ]
     },
     "execution_count": 102,
     "metadata": {},
     "output_type": "execute_result"
    }
   ],
   "source": [
    "a_list[-len(a_list)-1:-1]"
   ]
  },
  {
   "cell_type": "code",
   "execution_count": 103,
   "id": "10007907",
   "metadata": {},
   "outputs": [],
   "source": [
    "fruits.append('dates')"
   ]
  },
  {
   "cell_type": "code",
   "execution_count": 104,
   "id": "2cd42107",
   "metadata": {},
   "outputs": [
    {
     "data": {
      "text/plain": [
       "[23, 'pranav', None, ['apple', 'banana', 'cherry', 'dates'], 23.556]"
      ]
     },
     "execution_count": 104,
     "metadata": {},
     "output_type": "execute_result"
    }
   ],
   "source": [
    "a_list"
   ]
  },
  {
   "cell_type": "code",
   "execution_count": 105,
   "id": "ff63a3d0",
   "metadata": {},
   "outputs": [],
   "source": [
    "a_list.insert(1,'MJ')"
   ]
  },
  {
   "cell_type": "code",
   "execution_count": 106,
   "id": "ad25e866",
   "metadata": {},
   "outputs": [
    {
     "data": {
      "text/plain": [
       "[23, 'MJ', 'pranav', None, ['apple', 'banana', 'cherry', 'dates'], 23.556]"
      ]
     },
     "execution_count": 106,
     "metadata": {},
     "output_type": "execute_result"
    }
   ],
   "source": [
    "a_list"
   ]
  },
  {
   "cell_type": "markdown",
   "id": "33cbabf5",
   "metadata": {},
   "source": [
    "### removing a value from the list\n",
    " remove and pop"
   ]
  },
  {
   "cell_type": "code",
   "execution_count": 107,
   "id": "d17c4cf8",
   "metadata": {},
   "outputs": [],
   "source": [
    "a_list.remove(None)\n"
   ]
  },
  {
   "cell_type": "code",
   "execution_count": 108,
   "id": "11d3a0be",
   "metadata": {},
   "outputs": [
    {
     "data": {
      "text/plain": [
       "'MJ'"
      ]
     },
     "execution_count": 108,
     "metadata": {},
     "output_type": "execute_result"
    }
   ],
   "source": [
    "a_list.pop(1)"
   ]
  },
  {
   "cell_type": "code",
   "execution_count": 109,
   "id": "201e3153",
   "metadata": {},
   "outputs": [
    {
     "data": {
      "text/plain": [
       "False"
      ]
     },
     "execution_count": 109,
     "metadata": {},
     "output_type": "execute_result"
    }
   ],
   "source": [
    "'cherry' in a_list"
   ]
  },
  {
   "cell_type": "code",
   "execution_count": 110,
   "id": "da7f880f",
   "metadata": {},
   "outputs": [
    {
     "data": {
      "text/plain": [
       "[23, 'pranav', ['apple', 'banana', 'cherry', 'dates'], 23.556]"
      ]
     },
     "execution_count": 110,
     "metadata": {},
     "output_type": "execute_result"
    }
   ],
   "source": [
    "a_list"
   ]
  },
  {
   "cell_type": "markdown",
   "id": "55ff76bd",
   "metadata": {},
   "source": [
    "## Tuples\n",
    "cannot be changed. given with `()` brackets"
   ]
  },
  {
   "cell_type": "code",
   "execution_count": 111,
   "id": "8b104b8a",
   "metadata": {},
   "outputs": [],
   "source": [
    "cars=('audi','bmw','mercedes','rolls royce',fruits)"
   ]
  },
  {
   "cell_type": "code",
   "execution_count": 112,
   "id": "5fe73c78",
   "metadata": {},
   "outputs": [
    {
     "data": {
      "text/plain": [
       "('audi',\n",
       " 'bmw',\n",
       " 'mercedes',\n",
       " 'rolls royce',\n",
       " ['apple', 'banana', 'cherry', 'dates'])"
      ]
     },
     "execution_count": 112,
     "metadata": {},
     "output_type": "execute_result"
    }
   ],
   "source": [
    "cars"
   ]
  },
  {
   "cell_type": "code",
   "execution_count": 113,
   "id": "b30898f0",
   "metadata": {},
   "outputs": [
    {
     "data": {
      "text/plain": [
       "'apple'"
      ]
     },
     "execution_count": 113,
     "metadata": {},
     "output_type": "execute_result"
    }
   ],
   "source": [
    "cars[-1][0]"
   ]
  },
  {
   "cell_type": "code",
   "execution_count": 114,
   "id": "665f0dd0",
   "metadata": {},
   "outputs": [
    {
     "data": {
      "text/plain": [
       "'dates'"
      ]
     },
     "execution_count": 114,
     "metadata": {},
     "output_type": "execute_result"
    }
   ],
   "source": [
    "cars[-1][-1]"
   ]
  },
  {
   "cell_type": "code",
   "execution_count": 115,
   "id": "3673381c",
   "metadata": {},
   "outputs": [],
   "source": [
    "##converting tuples to lists\n",
    "cars_l=list(cars)"
   ]
  },
  {
   "cell_type": "code",
   "execution_count": 116,
   "id": "5af49e9c",
   "metadata": {},
   "outputs": [
    {
     "data": {
      "text/plain": [
       "list"
      ]
     },
     "execution_count": 116,
     "metadata": {},
     "output_type": "execute_result"
    }
   ],
   "source": [
    "type(cars_l)"
   ]
  },
  {
   "cell_type": "code",
   "execution_count": 117,
   "id": "3ec4639e",
   "metadata": {},
   "outputs": [
    {
     "data": {
      "text/plain": [
       "'apple'"
      ]
     },
     "execution_count": 117,
     "metadata": {},
     "output_type": "execute_result"
    }
   ],
   "source": [
    "cars_l[-1][0]"
   ]
  },
  {
   "cell_type": "markdown",
   "id": "7d58a479",
   "metadata": {},
   "source": [
    "You can also create a tuple with just one element by typing a comma after it. Just wrapping it with parentheses `(` and `)` won't make it a tuple."
   ]
  },
  {
   "cell_type": "code",
   "execution_count": 118,
   "id": "62bfb4ac",
   "metadata": {},
   "outputs": [],
   "source": [
    "single_element_tuple=2,"
   ]
  },
  {
   "cell_type": "code",
   "execution_count": 119,
   "id": "1d08b805",
   "metadata": {},
   "outputs": [
    {
     "data": {
      "text/plain": [
       "(2,)"
      ]
     },
     "execution_count": 119,
     "metadata": {},
     "output_type": "execute_result"
    }
   ],
   "source": [
    "single_element_tuple"
   ]
  },
  {
   "cell_type": "markdown",
   "id": "a2a55437",
   "metadata": {},
   "source": [
    "## Dictionary"
   ]
  },
  {
   "cell_type": "code",
   "execution_count": 121,
   "id": "49b5a551",
   "metadata": {},
   "outputs": [
    {
     "data": {
      "application/javascript": [
       "window.require && require([\"base/js/namespace\"],function(Jupyter){Jupyter.notebook.save_checkpoint()})"
      ],
      "text/plain": [
       "<IPython.core.display.Javascript object>"
      ]
     },
     "metadata": {},
     "output_type": "display_data"
    },
    {
     "name": "stdout",
     "output_type": "stream",
     "text": [
      "[jovian] Updating notebook \"pranav-prabhakar1401/jovian-week-1\" on https://jovian.ai/\u001b[0m\n"
     ]
    },
    {
     "ename": "ConnectionError",
     "evalue": "HTTPSConnectionPool(host='api.jovian.ai', port=443): Max retries exceeded with url: /gist/fd4f3338c4644fecb6f5565ccafd511d/upload (Caused by NewConnectionError('<urllib3.connection.HTTPSConnection object at 0x000002DF8BBCDDC0>: Failed to establish a new connection: [WinError 10060] A connection attempt failed because the connected party did not properly respond after a period of time, or established connection failed because connected host has failed to respond'))",
     "output_type": "error",
     "traceback": [
      "\u001b[1;31m---------------------------------------------------------------------------\u001b[0m",
      "\u001b[1;31mTimeoutError\u001b[0m                              Traceback (most recent call last)",
      "File \u001b[1;32m~\\anaconda3\\lib\\site-packages\\urllib3\\connection.py:174\u001b[0m, in \u001b[0;36mHTTPConnection._new_conn\u001b[1;34m(self)\u001b[0m\n\u001b[0;32m    173\u001b[0m \u001b[38;5;28;01mtry\u001b[39;00m:\n\u001b[1;32m--> 174\u001b[0m     conn \u001b[38;5;241m=\u001b[39m connection\u001b[38;5;241m.\u001b[39mcreate_connection(\n\u001b[0;32m    175\u001b[0m         (\u001b[38;5;28mself\u001b[39m\u001b[38;5;241m.\u001b[39m_dns_host, \u001b[38;5;28mself\u001b[39m\u001b[38;5;241m.\u001b[39mport), \u001b[38;5;28mself\u001b[39m\u001b[38;5;241m.\u001b[39mtimeout, \u001b[38;5;241m*\u001b[39m\u001b[38;5;241m*\u001b[39mextra_kw\n\u001b[0;32m    176\u001b[0m     )\n\u001b[0;32m    178\u001b[0m \u001b[38;5;28;01mexcept\u001b[39;00m SocketTimeout:\n",
      "File \u001b[1;32m~\\anaconda3\\lib\\site-packages\\urllib3\\util\\connection.py:95\u001b[0m, in \u001b[0;36mcreate_connection\u001b[1;34m(address, timeout, source_address, socket_options)\u001b[0m\n\u001b[0;32m     94\u001b[0m \u001b[38;5;28;01mif\u001b[39;00m err \u001b[38;5;129;01mis\u001b[39;00m \u001b[38;5;129;01mnot\u001b[39;00m \u001b[38;5;28;01mNone\u001b[39;00m:\n\u001b[1;32m---> 95\u001b[0m     \u001b[38;5;28;01mraise\u001b[39;00m err\n\u001b[0;32m     97\u001b[0m \u001b[38;5;28;01mraise\u001b[39;00m socket\u001b[38;5;241m.\u001b[39merror(\u001b[38;5;124m\"\u001b[39m\u001b[38;5;124mgetaddrinfo returns an empty list\u001b[39m\u001b[38;5;124m\"\u001b[39m)\n",
      "File \u001b[1;32m~\\anaconda3\\lib\\site-packages\\urllib3\\util\\connection.py:85\u001b[0m, in \u001b[0;36mcreate_connection\u001b[1;34m(address, timeout, source_address, socket_options)\u001b[0m\n\u001b[0;32m     84\u001b[0m     sock\u001b[38;5;241m.\u001b[39mbind(source_address)\n\u001b[1;32m---> 85\u001b[0m \u001b[43msock\u001b[49m\u001b[38;5;241;43m.\u001b[39;49m\u001b[43mconnect\u001b[49m\u001b[43m(\u001b[49m\u001b[43msa\u001b[49m\u001b[43m)\u001b[49m\n\u001b[0;32m     86\u001b[0m \u001b[38;5;28;01mreturn\u001b[39;00m sock\n",
      "\u001b[1;31mTimeoutError\u001b[0m: [WinError 10060] A connection attempt failed because the connected party did not properly respond after a period of time, or established connection failed because connected host has failed to respond",
      "\nDuring handling of the above exception, another exception occurred:\n",
      "\u001b[1;31mNewConnectionError\u001b[0m                        Traceback (most recent call last)",
      "File \u001b[1;32m~\\anaconda3\\lib\\site-packages\\urllib3\\connectionpool.py:703\u001b[0m, in \u001b[0;36mHTTPConnectionPool.urlopen\u001b[1;34m(self, method, url, body, headers, retries, redirect, assert_same_host, timeout, pool_timeout, release_conn, chunked, body_pos, **response_kw)\u001b[0m\n\u001b[0;32m    702\u001b[0m \u001b[38;5;66;03m# Make the request on the httplib connection object.\u001b[39;00m\n\u001b[1;32m--> 703\u001b[0m httplib_response \u001b[38;5;241m=\u001b[39m \u001b[38;5;28;43mself\u001b[39;49m\u001b[38;5;241;43m.\u001b[39;49m\u001b[43m_make_request\u001b[49m\u001b[43m(\u001b[49m\n\u001b[0;32m    704\u001b[0m \u001b[43m    \u001b[49m\u001b[43mconn\u001b[49m\u001b[43m,\u001b[49m\n\u001b[0;32m    705\u001b[0m \u001b[43m    \u001b[49m\u001b[43mmethod\u001b[49m\u001b[43m,\u001b[49m\n\u001b[0;32m    706\u001b[0m \u001b[43m    \u001b[49m\u001b[43murl\u001b[49m\u001b[43m,\u001b[49m\n\u001b[0;32m    707\u001b[0m \u001b[43m    \u001b[49m\u001b[43mtimeout\u001b[49m\u001b[38;5;241;43m=\u001b[39;49m\u001b[43mtimeout_obj\u001b[49m\u001b[43m,\u001b[49m\n\u001b[0;32m    708\u001b[0m \u001b[43m    \u001b[49m\u001b[43mbody\u001b[49m\u001b[38;5;241;43m=\u001b[39;49m\u001b[43mbody\u001b[49m\u001b[43m,\u001b[49m\n\u001b[0;32m    709\u001b[0m \u001b[43m    \u001b[49m\u001b[43mheaders\u001b[49m\u001b[38;5;241;43m=\u001b[39;49m\u001b[43mheaders\u001b[49m\u001b[43m,\u001b[49m\n\u001b[0;32m    710\u001b[0m \u001b[43m    \u001b[49m\u001b[43mchunked\u001b[49m\u001b[38;5;241;43m=\u001b[39;49m\u001b[43mchunked\u001b[49m\u001b[43m,\u001b[49m\n\u001b[0;32m    711\u001b[0m \u001b[43m\u001b[49m\u001b[43m)\u001b[49m\n\u001b[0;32m    713\u001b[0m \u001b[38;5;66;03m# If we're going to release the connection in ``finally:``, then\u001b[39;00m\n\u001b[0;32m    714\u001b[0m \u001b[38;5;66;03m# the response doesn't need to know about the connection. Otherwise\u001b[39;00m\n\u001b[0;32m    715\u001b[0m \u001b[38;5;66;03m# it will also try to release it and we'll have a double-release\u001b[39;00m\n\u001b[0;32m    716\u001b[0m \u001b[38;5;66;03m# mess.\u001b[39;00m\n",
      "File \u001b[1;32m~\\anaconda3\\lib\\site-packages\\urllib3\\connectionpool.py:386\u001b[0m, in \u001b[0;36mHTTPConnectionPool._make_request\u001b[1;34m(self, conn, method, url, timeout, chunked, **httplib_request_kw)\u001b[0m\n\u001b[0;32m    385\u001b[0m \u001b[38;5;28;01mtry\u001b[39;00m:\n\u001b[1;32m--> 386\u001b[0m     \u001b[38;5;28;43mself\u001b[39;49m\u001b[38;5;241;43m.\u001b[39;49m\u001b[43m_validate_conn\u001b[49m\u001b[43m(\u001b[49m\u001b[43mconn\u001b[49m\u001b[43m)\u001b[49m\n\u001b[0;32m    387\u001b[0m \u001b[38;5;28;01mexcept\u001b[39;00m (SocketTimeout, BaseSSLError) \u001b[38;5;28;01mas\u001b[39;00m e:\n\u001b[0;32m    388\u001b[0m     \u001b[38;5;66;03m# Py2 raises this as a BaseSSLError, Py3 raises it as socket timeout.\u001b[39;00m\n",
      "File \u001b[1;32m~\\anaconda3\\lib\\site-packages\\urllib3\\connectionpool.py:1040\u001b[0m, in \u001b[0;36mHTTPSConnectionPool._validate_conn\u001b[1;34m(self, conn)\u001b[0m\n\u001b[0;32m   1039\u001b[0m \u001b[38;5;28;01mif\u001b[39;00m \u001b[38;5;129;01mnot\u001b[39;00m \u001b[38;5;28mgetattr\u001b[39m(conn, \u001b[38;5;124m\"\u001b[39m\u001b[38;5;124msock\u001b[39m\u001b[38;5;124m\"\u001b[39m, \u001b[38;5;28;01mNone\u001b[39;00m):  \u001b[38;5;66;03m# AppEngine might not have  `.sock`\u001b[39;00m\n\u001b[1;32m-> 1040\u001b[0m     \u001b[43mconn\u001b[49m\u001b[38;5;241;43m.\u001b[39;49m\u001b[43mconnect\u001b[49m\u001b[43m(\u001b[49m\u001b[43m)\u001b[49m\n\u001b[0;32m   1042\u001b[0m \u001b[38;5;28;01mif\u001b[39;00m \u001b[38;5;129;01mnot\u001b[39;00m conn\u001b[38;5;241m.\u001b[39mis_verified:\n",
      "File \u001b[1;32m~\\anaconda3\\lib\\site-packages\\urllib3\\connection.py:358\u001b[0m, in \u001b[0;36mHTTPSConnection.connect\u001b[1;34m(self)\u001b[0m\n\u001b[0;32m    356\u001b[0m \u001b[38;5;28;01mdef\u001b[39;00m \u001b[38;5;21mconnect\u001b[39m(\u001b[38;5;28mself\u001b[39m):\n\u001b[0;32m    357\u001b[0m     \u001b[38;5;66;03m# Add certificate verification\u001b[39;00m\n\u001b[1;32m--> 358\u001b[0m     \u001b[38;5;28mself\u001b[39m\u001b[38;5;241m.\u001b[39msock \u001b[38;5;241m=\u001b[39m conn \u001b[38;5;241m=\u001b[39m \u001b[38;5;28;43mself\u001b[39;49m\u001b[38;5;241;43m.\u001b[39;49m\u001b[43m_new_conn\u001b[49m\u001b[43m(\u001b[49m\u001b[43m)\u001b[49m\n\u001b[0;32m    359\u001b[0m     hostname \u001b[38;5;241m=\u001b[39m \u001b[38;5;28mself\u001b[39m\u001b[38;5;241m.\u001b[39mhost\n",
      "File \u001b[1;32m~\\anaconda3\\lib\\site-packages\\urllib3\\connection.py:186\u001b[0m, in \u001b[0;36mHTTPConnection._new_conn\u001b[1;34m(self)\u001b[0m\n\u001b[0;32m    185\u001b[0m \u001b[38;5;28;01mexcept\u001b[39;00m SocketError \u001b[38;5;28;01mas\u001b[39;00m e:\n\u001b[1;32m--> 186\u001b[0m     \u001b[38;5;28;01mraise\u001b[39;00m NewConnectionError(\n\u001b[0;32m    187\u001b[0m         \u001b[38;5;28mself\u001b[39m, \u001b[38;5;124m\"\u001b[39m\u001b[38;5;124mFailed to establish a new connection: \u001b[39m\u001b[38;5;132;01m%s\u001b[39;00m\u001b[38;5;124m\"\u001b[39m \u001b[38;5;241m%\u001b[39m e\n\u001b[0;32m    188\u001b[0m     )\n\u001b[0;32m    190\u001b[0m \u001b[38;5;28;01mreturn\u001b[39;00m conn\n",
      "\u001b[1;31mNewConnectionError\u001b[0m: <urllib3.connection.HTTPSConnection object at 0x000002DF8BBCDDC0>: Failed to establish a new connection: [WinError 10060] A connection attempt failed because the connected party did not properly respond after a period of time, or established connection failed because connected host has failed to respond",
      "\nDuring handling of the above exception, another exception occurred:\n",
      "\u001b[1;31mMaxRetryError\u001b[0m                             Traceback (most recent call last)",
      "File \u001b[1;32m~\\anaconda3\\lib\\site-packages\\requests\\adapters.py:440\u001b[0m, in \u001b[0;36mHTTPAdapter.send\u001b[1;34m(self, request, stream, timeout, verify, cert, proxies)\u001b[0m\n\u001b[0;32m    439\u001b[0m \u001b[38;5;28;01mif\u001b[39;00m \u001b[38;5;129;01mnot\u001b[39;00m chunked:\n\u001b[1;32m--> 440\u001b[0m     resp \u001b[38;5;241m=\u001b[39m \u001b[43mconn\u001b[49m\u001b[38;5;241;43m.\u001b[39;49m\u001b[43murlopen\u001b[49m\u001b[43m(\u001b[49m\n\u001b[0;32m    441\u001b[0m \u001b[43m        \u001b[49m\u001b[43mmethod\u001b[49m\u001b[38;5;241;43m=\u001b[39;49m\u001b[43mrequest\u001b[49m\u001b[38;5;241;43m.\u001b[39;49m\u001b[43mmethod\u001b[49m\u001b[43m,\u001b[49m\n\u001b[0;32m    442\u001b[0m \u001b[43m        \u001b[49m\u001b[43murl\u001b[49m\u001b[38;5;241;43m=\u001b[39;49m\u001b[43murl\u001b[49m\u001b[43m,\u001b[49m\n\u001b[0;32m    443\u001b[0m \u001b[43m        \u001b[49m\u001b[43mbody\u001b[49m\u001b[38;5;241;43m=\u001b[39;49m\u001b[43mrequest\u001b[49m\u001b[38;5;241;43m.\u001b[39;49m\u001b[43mbody\u001b[49m\u001b[43m,\u001b[49m\n\u001b[0;32m    444\u001b[0m \u001b[43m        \u001b[49m\u001b[43mheaders\u001b[49m\u001b[38;5;241;43m=\u001b[39;49m\u001b[43mrequest\u001b[49m\u001b[38;5;241;43m.\u001b[39;49m\u001b[43mheaders\u001b[49m\u001b[43m,\u001b[49m\n\u001b[0;32m    445\u001b[0m \u001b[43m        \u001b[49m\u001b[43mredirect\u001b[49m\u001b[38;5;241;43m=\u001b[39;49m\u001b[38;5;28;43;01mFalse\u001b[39;49;00m\u001b[43m,\u001b[49m\n\u001b[0;32m    446\u001b[0m \u001b[43m        \u001b[49m\u001b[43massert_same_host\u001b[49m\u001b[38;5;241;43m=\u001b[39;49m\u001b[38;5;28;43;01mFalse\u001b[39;49;00m\u001b[43m,\u001b[49m\n\u001b[0;32m    447\u001b[0m \u001b[43m        \u001b[49m\u001b[43mpreload_content\u001b[49m\u001b[38;5;241;43m=\u001b[39;49m\u001b[38;5;28;43;01mFalse\u001b[39;49;00m\u001b[43m,\u001b[49m\n\u001b[0;32m    448\u001b[0m \u001b[43m        \u001b[49m\u001b[43mdecode_content\u001b[49m\u001b[38;5;241;43m=\u001b[39;49m\u001b[38;5;28;43;01mFalse\u001b[39;49;00m\u001b[43m,\u001b[49m\n\u001b[0;32m    449\u001b[0m \u001b[43m        \u001b[49m\u001b[43mretries\u001b[49m\u001b[38;5;241;43m=\u001b[39;49m\u001b[38;5;28;43mself\u001b[39;49m\u001b[38;5;241;43m.\u001b[39;49m\u001b[43mmax_retries\u001b[49m\u001b[43m,\u001b[49m\n\u001b[0;32m    450\u001b[0m \u001b[43m        \u001b[49m\u001b[43mtimeout\u001b[49m\u001b[38;5;241;43m=\u001b[39;49m\u001b[43mtimeout\u001b[49m\n\u001b[0;32m    451\u001b[0m \u001b[43m    \u001b[49m\u001b[43m)\u001b[49m\n\u001b[0;32m    453\u001b[0m \u001b[38;5;66;03m# Send the request.\u001b[39;00m\n\u001b[0;32m    454\u001b[0m \u001b[38;5;28;01melse\u001b[39;00m:\n",
      "File \u001b[1;32m~\\anaconda3\\lib\\site-packages\\urllib3\\connectionpool.py:785\u001b[0m, in \u001b[0;36mHTTPConnectionPool.urlopen\u001b[1;34m(self, method, url, body, headers, retries, redirect, assert_same_host, timeout, pool_timeout, release_conn, chunked, body_pos, **response_kw)\u001b[0m\n\u001b[0;32m    783\u001b[0m     e \u001b[38;5;241m=\u001b[39m ProtocolError(\u001b[38;5;124m\"\u001b[39m\u001b[38;5;124mConnection aborted.\u001b[39m\u001b[38;5;124m\"\u001b[39m, e)\n\u001b[1;32m--> 785\u001b[0m retries \u001b[38;5;241m=\u001b[39m \u001b[43mretries\u001b[49m\u001b[38;5;241;43m.\u001b[39;49m\u001b[43mincrement\u001b[49m\u001b[43m(\u001b[49m\n\u001b[0;32m    786\u001b[0m \u001b[43m    \u001b[49m\u001b[43mmethod\u001b[49m\u001b[43m,\u001b[49m\u001b[43m \u001b[49m\u001b[43murl\u001b[49m\u001b[43m,\u001b[49m\u001b[43m \u001b[49m\u001b[43merror\u001b[49m\u001b[38;5;241;43m=\u001b[39;49m\u001b[43me\u001b[49m\u001b[43m,\u001b[49m\u001b[43m \u001b[49m\u001b[43m_pool\u001b[49m\u001b[38;5;241;43m=\u001b[39;49m\u001b[38;5;28;43mself\u001b[39;49m\u001b[43m,\u001b[49m\u001b[43m \u001b[49m\u001b[43m_stacktrace\u001b[49m\u001b[38;5;241;43m=\u001b[39;49m\u001b[43msys\u001b[49m\u001b[38;5;241;43m.\u001b[39;49m\u001b[43mexc_info\u001b[49m\u001b[43m(\u001b[49m\u001b[43m)\u001b[49m\u001b[43m[\u001b[49m\u001b[38;5;241;43m2\u001b[39;49m\u001b[43m]\u001b[49m\n\u001b[0;32m    787\u001b[0m \u001b[43m\u001b[49m\u001b[43m)\u001b[49m\n\u001b[0;32m    788\u001b[0m retries\u001b[38;5;241m.\u001b[39msleep()\n",
      "File \u001b[1;32m~\\anaconda3\\lib\\site-packages\\urllib3\\util\\retry.py:592\u001b[0m, in \u001b[0;36mRetry.increment\u001b[1;34m(self, method, url, response, error, _pool, _stacktrace)\u001b[0m\n\u001b[0;32m    591\u001b[0m \u001b[38;5;28;01mif\u001b[39;00m new_retry\u001b[38;5;241m.\u001b[39mis_exhausted():\n\u001b[1;32m--> 592\u001b[0m     \u001b[38;5;28;01mraise\u001b[39;00m MaxRetryError(_pool, url, error \u001b[38;5;129;01mor\u001b[39;00m ResponseError(cause))\n\u001b[0;32m    594\u001b[0m log\u001b[38;5;241m.\u001b[39mdebug(\u001b[38;5;124m\"\u001b[39m\u001b[38;5;124mIncremented Retry for (url=\u001b[39m\u001b[38;5;124m'\u001b[39m\u001b[38;5;132;01m%s\u001b[39;00m\u001b[38;5;124m'\u001b[39m\u001b[38;5;124m): \u001b[39m\u001b[38;5;132;01m%r\u001b[39;00m\u001b[38;5;124m\"\u001b[39m, url, new_retry)\n",
      "\u001b[1;31mMaxRetryError\u001b[0m: HTTPSConnectionPool(host='api.jovian.ai', port=443): Max retries exceeded with url: /gist/fd4f3338c4644fecb6f5565ccafd511d/upload (Caused by NewConnectionError('<urllib3.connection.HTTPSConnection object at 0x000002DF8BBCDDC0>: Failed to establish a new connection: [WinError 10060] A connection attempt failed because the connected party did not properly respond after a period of time, or established connection failed because connected host has failed to respond'))",
      "\nDuring handling of the above exception, another exception occurred:\n",
      "\u001b[1;31mConnectionError\u001b[0m                           Traceback (most recent call last)",
      "Input \u001b[1;32mIn [121]\u001b[0m, in \u001b[0;36m<cell line: 3>\u001b[1;34m()\u001b[0m\n\u001b[0;32m      1\u001b[0m get_ipython()\u001b[38;5;241m.\u001b[39msystem(\u001b[38;5;124m'\u001b[39m\u001b[38;5;124mpip install jovian --quiet\u001b[39m\u001b[38;5;124m'\u001b[39m)\n\u001b[0;32m      2\u001b[0m \u001b[38;5;28;01mimport\u001b[39;00m \u001b[38;5;21;01mjovian\u001b[39;00m\n\u001b[1;32m----> 3\u001b[0m \u001b[43mjovian\u001b[49m\u001b[38;5;241;43m.\u001b[39;49m\u001b[43mcommit\u001b[49m\u001b[43m(\u001b[49m\u001b[43m)\u001b[49m\n",
      "File \u001b[1;32m~\\anaconda3\\lib\\site-packages\\jovian\\utils\\commit.py:199\u001b[0m, in \u001b[0;36mcommit\u001b[1;34m(message, files, outputs, environment, privacy, filename, project, new_project, git_commit, git_message, **kwargs)\u001b[0m\n\u001b[0;32m    196\u001b[0m project_title, project_id \u001b[38;5;241m=\u001b[39m _parse_project(project, filename, new_project)\n\u001b[0;32m    198\u001b[0m \u001b[38;5;66;03m# Create or update gist (with title and )\u001b[39;00m\n\u001b[1;32m--> 199\u001b[0m res \u001b[38;5;241m=\u001b[39m \u001b[43mapi\u001b[49m\u001b[38;5;241;43m.\u001b[39;49m\u001b[43mcreate_gist_simple\u001b[49m\u001b[43m(\u001b[49m\u001b[43mfilename\u001b[49m\u001b[43m,\u001b[49m\u001b[43m \u001b[49m\u001b[43mproject_id\u001b[49m\u001b[43m,\u001b[49m\u001b[43m \u001b[49m\u001b[43mprivacy\u001b[49m\u001b[43m,\u001b[49m\u001b[43m \u001b[49m\u001b[43mproject_title\u001b[49m\u001b[43m,\u001b[49m\u001b[43m \u001b[49m\u001b[43mmessage\u001b[49m\u001b[43m)\u001b[49m\n\u001b[0;32m    200\u001b[0m slug, owner, version, title \u001b[38;5;241m=\u001b[39m res[\u001b[38;5;124m'\u001b[39m\u001b[38;5;124mslug\u001b[39m\u001b[38;5;124m'\u001b[39m], res[\u001b[38;5;124m'\u001b[39m\u001b[38;5;124mowner\u001b[39m\u001b[38;5;124m'\u001b[39m], res[\u001b[38;5;124m'\u001b[39m\u001b[38;5;124mversion\u001b[39m\u001b[38;5;124m'\u001b[39m], res[\u001b[38;5;124m'\u001b[39m\u001b[38;5;124mtitle\u001b[39m\u001b[38;5;124m'\u001b[39m]\n\u001b[0;32m    201\u001b[0m username \u001b[38;5;241m=\u001b[39m owner[\u001b[38;5;124m'\u001b[39m\u001b[38;5;124musername\u001b[39m\u001b[38;5;124m'\u001b[39m]\n",
      "File \u001b[1;32m~\\anaconda3\\lib\\site-packages\\jovian\\utils\\api.py:59\u001b[0m, in \u001b[0;36mcreate_gist_simple\u001b[1;34m(filename, gist_slug, privacy, title, version_title)\u001b[0m\n\u001b[0;32m     57\u001b[0m nb_file \u001b[38;5;241m=\u001b[39m (filename, f)\n\u001b[0;32m     58\u001b[0m \u001b[38;5;28;01mif\u001b[39;00m gist_slug:\n\u001b[1;32m---> 59\u001b[0m     \u001b[38;5;28;01mreturn\u001b[39;00m \u001b[43mupload_file\u001b[49m\u001b[43m(\u001b[49m\u001b[43mgist_slug\u001b[49m\u001b[38;5;241;43m=\u001b[39;49m\u001b[43mgist_slug\u001b[49m\u001b[43m,\u001b[49m\u001b[43m \u001b[49m\u001b[43mfile\u001b[49m\u001b[38;5;241;43m=\u001b[39;49m\u001b[43mnb_file\u001b[49m\u001b[43m,\u001b[49m\u001b[43m \u001b[49m\u001b[43mversion_title\u001b[49m\u001b[38;5;241;43m=\u001b[39;49m\u001b[43mversion_title\u001b[49m\u001b[43m)\u001b[49m\n\u001b[0;32m     60\u001b[0m \u001b[38;5;28;01melse\u001b[39;00m:\n\u001b[0;32m     61\u001b[0m     data \u001b[38;5;241m=\u001b[39m {\u001b[38;5;124m'\u001b[39m\u001b[38;5;124mvisibility\u001b[39m\u001b[38;5;124m'\u001b[39m: privacy}\n",
      "File \u001b[1;32m~\\anaconda3\\lib\\site-packages\\jovian\\utils\\api.py:93\u001b[0m, in \u001b[0;36mupload_file\u001b[1;34m(gist_slug, file, folder, version, artifact, version_title)\u001b[0m\n\u001b[0;32m     90\u001b[0m \u001b[38;5;28;01mif\u001b[39;00m version_title:\n\u001b[0;32m     91\u001b[0m     data[\u001b[38;5;124m'\u001b[39m\u001b[38;5;124mversion_title\u001b[39m\u001b[38;5;124m'\u001b[39m] \u001b[38;5;241m=\u001b[39m version_title\n\u001b[1;32m---> 93\u001b[0m res \u001b[38;5;241m=\u001b[39m \u001b[43mpost\u001b[49m\u001b[43m(\u001b[49m\u001b[43murl\u001b[49m\u001b[38;5;241;43m=\u001b[39;49m\u001b[43m_u\u001b[49m\u001b[43m(\u001b[49m\u001b[38;5;124;43m'\u001b[39;49m\u001b[38;5;124;43m/gist/\u001b[39;49m\u001b[38;5;124;43m'\u001b[39;49m\u001b[43m \u001b[49m\u001b[38;5;241;43m+\u001b[39;49m\u001b[43m \u001b[49m\u001b[43mgist_slug\u001b[49m\u001b[43m \u001b[49m\u001b[38;5;241;43m+\u001b[39;49m\u001b[43m \u001b[49m\u001b[38;5;124;43m'\u001b[39;49m\u001b[38;5;124;43m/upload\u001b[39;49m\u001b[38;5;124;43m'\u001b[39;49m\u001b[43m \u001b[49m\u001b[38;5;241;43m+\u001b[39;49m\u001b[43m \u001b[49m\u001b[43m_v\u001b[49m\u001b[43m(\u001b[49m\u001b[43mversion\u001b[49m\u001b[43m)\u001b[49m\u001b[43m)\u001b[49m\u001b[43m,\u001b[49m\n\u001b[0;32m     94\u001b[0m \u001b[43m           \u001b[49m\u001b[43mfiles\u001b[49m\u001b[38;5;241;43m=\u001b[39;49m\u001b[43m{\u001b[49m\u001b[38;5;124;43m'\u001b[39;49m\u001b[38;5;124;43mfiles\u001b[39;49m\u001b[38;5;124;43m'\u001b[39;49m\u001b[43m:\u001b[49m\u001b[43m \u001b[49m\u001b[43mfile\u001b[49m\u001b[43m}\u001b[49m\u001b[43m,\u001b[49m\u001b[43m \u001b[49m\u001b[43mdata\u001b[49m\u001b[38;5;241;43m=\u001b[39;49m\u001b[43mdata\u001b[49m\u001b[43m,\u001b[49m\u001b[43m \u001b[49m\u001b[43mheaders\u001b[49m\u001b[38;5;241;43m=\u001b[39;49m\u001b[43m_h\u001b[49m\u001b[43m(\u001b[49m\u001b[43m)\u001b[49m\u001b[43m)\u001b[49m\n\u001b[0;32m     95\u001b[0m \u001b[38;5;28;01mif\u001b[39;00m res\u001b[38;5;241m.\u001b[39mstatus_code \u001b[38;5;241m==\u001b[39m \u001b[38;5;241m200\u001b[39m:\n\u001b[0;32m     96\u001b[0m     data, warning \u001b[38;5;241m=\u001b[39m parse_success_response(res)\n",
      "File \u001b[1;32m~\\anaconda3\\lib\\site-packages\\jovian\\utils\\request.py:14\u001b[0m, in \u001b[0;36mretry.<locals>._request_wrapper\u001b[1;34m(*args, **kwargs)\u001b[0m\n\u001b[0;32m     11\u001b[0m \u001b[38;5;129m@wraps\u001b[39m(request)\n\u001b[0;32m     12\u001b[0m \u001b[38;5;28;01mdef\u001b[39;00m \u001b[38;5;21m_request_wrapper\u001b[39m(\u001b[38;5;241m*\u001b[39margs, \u001b[38;5;241m*\u001b[39m\u001b[38;5;241m*\u001b[39mkwargs):\n\u001b[0;32m     13\u001b[0m     \u001b[38;5;28;01mfor\u001b[39;00m i \u001b[38;5;129;01min\u001b[39;00m \u001b[38;5;28mrange\u001b[39m(\u001b[38;5;241m2\u001b[39m):\n\u001b[1;32m---> 14\u001b[0m         res \u001b[38;5;241m=\u001b[39m request(\u001b[38;5;241m*\u001b[39margs, \u001b[38;5;241m*\u001b[39m\u001b[38;5;241m*\u001b[39mkwargs)\n\u001b[0;32m     15\u001b[0m         \u001b[38;5;28;01mif\u001b[39;00m res\u001b[38;5;241m.\u001b[39mstatus_code \u001b[38;5;241m==\u001b[39m \u001b[38;5;241m401\u001b[39m:\n\u001b[0;32m     16\u001b[0m             log(\u001b[38;5;124m'\u001b[39m\u001b[38;5;124mThe current API key is invalid or expired.\u001b[39m\u001b[38;5;124m'\u001b[39m, error\u001b[38;5;241m=\u001b[39m\u001b[38;5;28;01mTrue\u001b[39;00m)\n",
      "File \u001b[1;32m~\\anaconda3\\lib\\site-packages\\jovian\\utils\\request.py:38\u001b[0m, in \u001b[0;36mpost\u001b[1;34m(url, data, json, **kwargs)\u001b[0m\n\u001b[0;32m     35\u001b[0m \u001b[38;5;129m@retry\u001b[39m\n\u001b[0;32m     36\u001b[0m \u001b[38;5;28;01mdef\u001b[39;00m \u001b[38;5;21mpost\u001b[39m(url, data\u001b[38;5;241m=\u001b[39m\u001b[38;5;28;01mNone\u001b[39;00m, json\u001b[38;5;241m=\u001b[39m\u001b[38;5;28;01mNone\u001b[39;00m, \u001b[38;5;241m*\u001b[39m\u001b[38;5;241m*\u001b[39mkwargs):\n\u001b[0;32m     37\u001b[0m     \u001b[38;5;124;03m\"\"\"Retryable POST request\"\"\"\u001b[39;00m\n\u001b[1;32m---> 38\u001b[0m     \u001b[38;5;28;01mreturn\u001b[39;00m requests\u001b[38;5;241m.\u001b[39mpost(url, data\u001b[38;5;241m=\u001b[39mdata, json\u001b[38;5;241m=\u001b[39mjson, \u001b[38;5;241m*\u001b[39m\u001b[38;5;241m*\u001b[39mkwargs)\n",
      "File \u001b[1;32m~\\anaconda3\\lib\\site-packages\\requests\\api.py:117\u001b[0m, in \u001b[0;36mpost\u001b[1;34m(url, data, json, **kwargs)\u001b[0m\n\u001b[0;32m    105\u001b[0m \u001b[38;5;28;01mdef\u001b[39;00m \u001b[38;5;21mpost\u001b[39m(url, data\u001b[38;5;241m=\u001b[39m\u001b[38;5;28;01mNone\u001b[39;00m, json\u001b[38;5;241m=\u001b[39m\u001b[38;5;28;01mNone\u001b[39;00m, \u001b[38;5;241m*\u001b[39m\u001b[38;5;241m*\u001b[39mkwargs):\n\u001b[0;32m    106\u001b[0m     \u001b[38;5;124mr\u001b[39m\u001b[38;5;124;03m\"\"\"Sends a POST request.\u001b[39;00m\n\u001b[0;32m    107\u001b[0m \n\u001b[0;32m    108\u001b[0m \u001b[38;5;124;03m    :param url: URL for the new :class:`Request` object.\u001b[39;00m\n\u001b[1;32m   (...)\u001b[0m\n\u001b[0;32m    114\u001b[0m \u001b[38;5;124;03m    :rtype: requests.Response\u001b[39;00m\n\u001b[0;32m    115\u001b[0m \u001b[38;5;124;03m    \"\"\"\u001b[39;00m\n\u001b[1;32m--> 117\u001b[0m     \u001b[38;5;28;01mreturn\u001b[39;00m request(\u001b[38;5;124m'\u001b[39m\u001b[38;5;124mpost\u001b[39m\u001b[38;5;124m'\u001b[39m, url, data\u001b[38;5;241m=\u001b[39mdata, json\u001b[38;5;241m=\u001b[39mjson, \u001b[38;5;241m*\u001b[39m\u001b[38;5;241m*\u001b[39mkwargs)\n",
      "File \u001b[1;32m~\\anaconda3\\lib\\site-packages\\requests\\api.py:61\u001b[0m, in \u001b[0;36mrequest\u001b[1;34m(method, url, **kwargs)\u001b[0m\n\u001b[0;32m     57\u001b[0m \u001b[38;5;66;03m# By using the 'with' statement we are sure the session is closed, thus we\u001b[39;00m\n\u001b[0;32m     58\u001b[0m \u001b[38;5;66;03m# avoid leaving sockets open which can trigger a ResourceWarning in some\u001b[39;00m\n\u001b[0;32m     59\u001b[0m \u001b[38;5;66;03m# cases, and look like a memory leak in others.\u001b[39;00m\n\u001b[0;32m     60\u001b[0m \u001b[38;5;28;01mwith\u001b[39;00m sessions\u001b[38;5;241m.\u001b[39mSession() \u001b[38;5;28;01mas\u001b[39;00m session:\n\u001b[1;32m---> 61\u001b[0m     \u001b[38;5;28;01mreturn\u001b[39;00m session\u001b[38;5;241m.\u001b[39mrequest(method\u001b[38;5;241m=\u001b[39mmethod, url\u001b[38;5;241m=\u001b[39murl, \u001b[38;5;241m*\u001b[39m\u001b[38;5;241m*\u001b[39mkwargs)\n",
      "File \u001b[1;32m~\\anaconda3\\lib\\site-packages\\requests\\sessions.py:529\u001b[0m, in \u001b[0;36mSession.request\u001b[1;34m(self, method, url, params, data, headers, cookies, files, auth, timeout, allow_redirects, proxies, hooks, stream, verify, cert, json)\u001b[0m\n\u001b[0;32m    524\u001b[0m send_kwargs \u001b[38;5;241m=\u001b[39m {\n\u001b[0;32m    525\u001b[0m     \u001b[38;5;124m'\u001b[39m\u001b[38;5;124mtimeout\u001b[39m\u001b[38;5;124m'\u001b[39m: timeout,\n\u001b[0;32m    526\u001b[0m     \u001b[38;5;124m'\u001b[39m\u001b[38;5;124mallow_redirects\u001b[39m\u001b[38;5;124m'\u001b[39m: allow_redirects,\n\u001b[0;32m    527\u001b[0m }\n\u001b[0;32m    528\u001b[0m send_kwargs\u001b[38;5;241m.\u001b[39mupdate(settings)\n\u001b[1;32m--> 529\u001b[0m resp \u001b[38;5;241m=\u001b[39m \u001b[38;5;28mself\u001b[39m\u001b[38;5;241m.\u001b[39msend(prep, \u001b[38;5;241m*\u001b[39m\u001b[38;5;241m*\u001b[39msend_kwargs)\n\u001b[0;32m    531\u001b[0m \u001b[38;5;28;01mreturn\u001b[39;00m resp\n",
      "File \u001b[1;32m~\\anaconda3\\lib\\site-packages\\requests\\sessions.py:645\u001b[0m, in \u001b[0;36mSession.send\u001b[1;34m(self, request, **kwargs)\u001b[0m\n\u001b[0;32m    642\u001b[0m start \u001b[38;5;241m=\u001b[39m preferred_clock()\n\u001b[0;32m    644\u001b[0m \u001b[38;5;66;03m# Send the request\u001b[39;00m\n\u001b[1;32m--> 645\u001b[0m r \u001b[38;5;241m=\u001b[39m adapter\u001b[38;5;241m.\u001b[39msend(request, \u001b[38;5;241m*\u001b[39m\u001b[38;5;241m*\u001b[39mkwargs)\n\u001b[0;32m    647\u001b[0m \u001b[38;5;66;03m# Total elapsed time of the request (approximately)\u001b[39;00m\n\u001b[0;32m    648\u001b[0m elapsed \u001b[38;5;241m=\u001b[39m preferred_clock() \u001b[38;5;241m-\u001b[39m start\n",
      "File \u001b[1;32m~\\anaconda3\\lib\\site-packages\\requests\\adapters.py:519\u001b[0m, in \u001b[0;36mHTTPAdapter.send\u001b[1;34m(self, request, stream, timeout, verify, cert, proxies)\u001b[0m\n\u001b[0;32m    515\u001b[0m     \u001b[38;5;28;01mif\u001b[39;00m \u001b[38;5;28misinstance\u001b[39m(e\u001b[38;5;241m.\u001b[39mreason, _SSLError):\n\u001b[0;32m    516\u001b[0m         \u001b[38;5;66;03m# This branch is for urllib3 v1.22 and later.\u001b[39;00m\n\u001b[0;32m    517\u001b[0m         \u001b[38;5;28;01mraise\u001b[39;00m SSLError(e, request\u001b[38;5;241m=\u001b[39mrequest)\n\u001b[1;32m--> 519\u001b[0m     \u001b[38;5;28;01mraise\u001b[39;00m \u001b[38;5;167;01mConnectionError\u001b[39;00m(e, request\u001b[38;5;241m=\u001b[39mrequest)\n\u001b[0;32m    521\u001b[0m \u001b[38;5;28;01mexcept\u001b[39;00m ClosedPoolError \u001b[38;5;28;01mas\u001b[39;00m e:\n\u001b[0;32m    522\u001b[0m     \u001b[38;5;28;01mraise\u001b[39;00m \u001b[38;5;167;01mConnectionError\u001b[39;00m(e, request\u001b[38;5;241m=\u001b[39mrequest)\n",
      "\u001b[1;31mConnectionError\u001b[0m: HTTPSConnectionPool(host='api.jovian.ai', port=443): Max retries exceeded with url: /gist/fd4f3338c4644fecb6f5565ccafd511d/upload (Caused by NewConnectionError('<urllib3.connection.HTTPSConnection object at 0x000002DF8BBCDDC0>: Failed to establish a new connection: [WinError 10060] A connection attempt failed because the connected party did not properly respond after a period of time, or established connection failed because connected host has failed to respond'))"
     ]
    }
   ],
   "source": [
    "!pip install jovian --quiet\n",
    "import jovian\n",
    "jovian.commit()"
   ]
  },
  {
   "cell_type": "code",
   "execution_count": null,
   "id": "c07c12cb",
   "metadata": {},
   "outputs": [],
   "source": []
  }
 ],
 "metadata": {
  "kernelspec": {
   "display_name": "Python 3 (ipykernel)",
   "language": "python",
   "name": "python3"
  },
  "language_info": {
   "codemirror_mode": {
    "name": "ipython",
    "version": 3
   },
   "file_extension": ".py",
   "mimetype": "text/x-python",
   "name": "python",
   "nbconvert_exporter": "python",
   "pygments_lexer": "ipython3",
   "version": "3.9.12"
  }
 },
 "nbformat": 4,
 "nbformat_minor": 5
}
